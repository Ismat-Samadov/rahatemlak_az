{
 "cells": [
  {
   "cell_type": "code",
   "execution_count": 1,
   "id": "7ddf6f30-bf62-471e-8970-de37dce99a37",
   "metadata": {},
   "outputs": [],
   "source": [
    "import pandas as pd"
   ]
  },
  {
   "cell_type": "code",
   "execution_count": 2,
   "id": "1befa2f2-934d-4bbb-b27a-7f5e78488f5f",
   "metadata": {},
   "outputs": [],
   "source": [
    "df=pd.read_csv(r'main.csv')"
   ]
  },
  {
   "cell_type": "code",
   "execution_count": 4,
   "id": "20a778ed-678b-4c42-b8fe-59c157d10dcb",
   "metadata": {},
   "outputs": [],
   "source": [
    "df.to_excel('to_excel.xlsx', index=False)"
   ]
  }
 ],
 "metadata": {
  "kernelspec": {
   "display_name": "Python 3 (ipykernel)",
   "language": "python",
   "name": "python3"
  },
  "language_info": {
   "codemirror_mode": {
    "name": "ipython",
    "version": 3
   },
   "file_extension": ".py",
   "mimetype": "text/x-python",
   "name": "python",
   "nbconvert_exporter": "python",
   "pygments_lexer": "ipython3",
   "version": "3.10.9"
  }
 },
 "nbformat": 4,
 "nbformat_minor": 5
}
